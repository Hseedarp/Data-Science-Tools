{
 "cells": [
  {
   "cell_type": "markdown",
   "id": "7a4b3dc9-a949-4fd1-af9f-9b5c7c3c1f36",
   "metadata": {},
   "source": [
    "# Data Science Tools and Ecosystem"
   ]
  },
  {
   "cell_type": "markdown",
   "id": "be427497-d80c-4520-a34f-9c98e92ccd14",
   "metadata": {},
   "source": [
    "## In this notebook, Data Science Tools and Ecosystem are summarized."
   ]
  },
  {
   "cell_type": "markdown",
   "id": "3b8118b9-82e3-45b8-ae25-224bb6d090f6",
   "metadata": {
    "jp-MarkdownHeadingCollapsed": true
   },
   "source": [
    "# **Objectives:**\n",
    "- List popular languages for Data Science\n",
    "- List commonly used libraries used by Data Scientists\n",
    "- List widely used data science tools\n",
    "\n",
    "## Author\n",
    "Pradeesh"
   ]
  },
  {
   "cell_type": "markdown",
   "id": "71c32384-79b7-4a01-a88e-abcf8e185773",
   "metadata": {},
   "source": [
    "## Some of the popular languages that Data Scientists use are:\n",
    "#    1.Python\n",
    "#    2.SQL\n",
    "#    3.R"
   ]
  },
  {
   "cell_type": "markdown",
   "id": "59624f8e-e0e3-4f5f-89fa-4e5d4b3dc9db",
   "metadata": {},
   "source": [
    "## Some of the commonly used libraries used by Data Scientists include:\n",
    "#    1.Pandas\n",
    "#    2.Numpy\n",
    "#    3.scikit-learn"
   ]
  },
  {
   "cell_type": "markdown",
   "id": "d5956d89-e4ee-465c-a28d-5897ffad763e",
   "metadata": {},
   "source": [
    "## Widely used data science tools\n",
    "| Data Science Tools |\n",
    "| ------------------ |\n",
    "| Apache Hadoop      |\n",
    "| Apache Spark       |\n",
    "| Apache Superset    |"
   ]
  },
  {
   "cell_type": "markdown",
   "id": "1dc79f4f-f1d9-4199-996b-31b5646a9b5b",
   "metadata": {},
   "source": [
    "### Below are a few examples of evaluating arithmetic expressions in Python"
   ]
  },
  {
   "cell_type": "code",
   "execution_count": 2,
   "id": "5ba0d136-e18e-44e9-9dd0-e1e5ea58de09",
   "metadata": {},
   "outputs": [
    {
     "name": "stdout",
     "output_type": "stream",
     "text": [
      "17\n"
     ]
    }
   ],
   "source": [
    "a = (3 * 4) + 5\n",
    "\n",
    "# This a simple arithmetic expression to mutiply then add integers.\n",
    "print(a)"
   ]
  },
  {
   "cell_type": "code",
   "execution_count": 4,
   "id": "01444731-062a-4b82-bb8b-c081f903f629",
   "metadata": {},
   "outputs": [
    {
     "name": "stdin",
     "output_type": "stream",
     "text": [
      "Enter time in minutes:  200\n"
     ]
    },
    {
     "name": "stdout",
     "output_type": "stream",
     "text": [
      "3.3333333333333335\n"
     ]
    }
   ],
   "source": [
    "t = int(input(\"Enter time in minutes: \"))\n",
    "# This will convert 200 minutes to hours by diving by 60\n",
    "h = t/60\n",
    "print(h)"
   ]
  }
 ],
 "metadata": {
  "kernelspec": {
   "display_name": "Python 3 (ipykernel)",
   "language": "python",
   "name": "python3"
  },
  "language_info": {
   "codemirror_mode": {
    "name": "ipython",
    "version": 3
   },
   "file_extension": ".py",
   "mimetype": "text/x-python",
   "name": "python",
   "nbconvert_exporter": "python",
   "pygments_lexer": "ipython3",
   "version": "3.11.9"
  }
 },
 "nbformat": 4,
 "nbformat_minor": 5
}
